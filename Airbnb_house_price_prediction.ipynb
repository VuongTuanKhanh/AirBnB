{
  "nbformat": 4,
  "nbformat_minor": 0,
  "metadata": {
    "colab": {
      "provenance": [],
      "toc_visible": true
    },
    "kernelspec": {
      "name": "python3",
      "display_name": "Python 3"
    },
    "language_info": {
      "name": "python"
    }
  },
  "cells": [
    {
      "cell_type": "markdown",
      "source": [
        "#Section 1. Business Understanding\n",
        "We will asking these several quesion to find an ingight about current boston airbnb situation\n",
        "- What is the most common neighbor in the dataset\n",
        "- In which month, do people usually spend on vacation?\n",
        "- What is the distribution of homestay prices in Boston?\n",
        "- Which factor will affect the price most?"
      ],
      "metadata": {
        "id": "HU7ZINnP6HE6"
      }
    },
    {
      "cell_type": "code",
      "execution_count": 132,
      "metadata": {
        "id": "tikCpAhvfvze"
      },
      "outputs": [],
      "source": [
        "import pandas as pd \n",
        "import numpy as np\n",
        "import matplotlib.pyplot as plt\n",
        "from matplotlib.pyplot import figure\n",
        "import seaborn as sns\n",
        "\n",
        "from sklearn.model_selection import train_test_split\n",
        "from sklearn.ensemble import RandomForestRegressor\n",
        "from sklearn.metrics import r2_score, mean_squared_error, mean_absolute_error\n",
        "from sklearn.model_selection import train_test_split\n",
        "from sklearn.datasets import make_classification\n",
        "from sklearn.ensemble import RandomForestClassifier\n",
        "from sklearn.experimental import enable_halving_search_cv  \n",
        "from sklearn.model_selection import HalvingGridSearchCV"
      ]
    },
    {
      "cell_type": "markdown",
      "source": [
        "#Section 2. Data Understanding"
      ],
      "metadata": {
        "id": "Mztdcf7L5JNQ"
      }
    },
    {
      "cell_type": "markdown",
      "source": [
        "## 2.1) Data gathering"
      ],
      "metadata": {
        "id": "C_WIqzr0p3A6"
      }
    },
    {
      "cell_type": "code",
      "source": [
        "cal = pd.read_csv('calendar.csv.zip')\n",
        "lst = pd.read_csv('listings.csv.zip')\n",
        "rev = pd.read_csv('reviews.csv.zip')"
      ],
      "metadata": {
        "id": "mjWlaVVchfEX"
      },
      "execution_count": 133,
      "outputs": []
    },
    {
      "cell_type": "code",
      "source": [
        "cal.head()"
      ],
      "metadata": {
        "colab": {
          "base_uri": "https://localhost:8080/",
          "height": 206
        },
        "id": "0CDvZriio-qq",
        "outputId": "a34ab0bd-9f67-4d97-9e15-fc0d1c4aa482"
      },
      "execution_count": 134,
      "outputs": [
        {
          "output_type": "execute_result",
          "data": {
            "text/plain": [
              "   listing_id        date available price\n",
              "0    12147973  2017-09-05         f   NaN\n",
              "1    12147973  2017-09-04         f   NaN\n",
              "2    12147973  2017-09-03         f   NaN\n",
              "3    12147973  2017-09-02         f   NaN\n",
              "4    12147973  2017-09-01         f   NaN"
            ],
            "text/html": [
              "\n",
              "  <div id=\"df-161296e0-5273-480f-9e7d-8230b019ff50\">\n",
              "    <div class=\"colab-df-container\">\n",
              "      <div>\n",
              "<style scoped>\n",
              "    .dataframe tbody tr th:only-of-type {\n",
              "        vertical-align: middle;\n",
              "    }\n",
              "\n",
              "    .dataframe tbody tr th {\n",
              "        vertical-align: top;\n",
              "    }\n",
              "\n",
              "    .dataframe thead th {\n",
              "        text-align: right;\n",
              "    }\n",
              "</style>\n",
              "<table border=\"1\" class=\"dataframe\">\n",
              "  <thead>\n",
              "    <tr style=\"text-align: right;\">\n",
              "      <th></th>\n",
              "      <th>listing_id</th>\n",
              "      <th>date</th>\n",
              "      <th>available</th>\n",
              "      <th>price</th>\n",
              "    </tr>\n",
              "  </thead>\n",
              "  <tbody>\n",
              "    <tr>\n",
              "      <th>0</th>\n",
              "      <td>12147973</td>\n",
              "      <td>2017-09-05</td>\n",
              "      <td>f</td>\n",
              "      <td>NaN</td>\n",
              "    </tr>\n",
              "    <tr>\n",
              "      <th>1</th>\n",
              "      <td>12147973</td>\n",
              "      <td>2017-09-04</td>\n",
              "      <td>f</td>\n",
              "      <td>NaN</td>\n",
              "    </tr>\n",
              "    <tr>\n",
              "      <th>2</th>\n",
              "      <td>12147973</td>\n",
              "      <td>2017-09-03</td>\n",
              "      <td>f</td>\n",
              "      <td>NaN</td>\n",
              "    </tr>\n",
              "    <tr>\n",
              "      <th>3</th>\n",
              "      <td>12147973</td>\n",
              "      <td>2017-09-02</td>\n",
              "      <td>f</td>\n",
              "      <td>NaN</td>\n",
              "    </tr>\n",
              "    <tr>\n",
              "      <th>4</th>\n",
              "      <td>12147973</td>\n",
              "      <td>2017-09-01</td>\n",
              "      <td>f</td>\n",
              "      <td>NaN</td>\n",
              "    </tr>\n",
              "  </tbody>\n",
              "</table>\n",
              "</div>\n",
              "      <button class=\"colab-df-convert\" onclick=\"convertToInteractive('df-161296e0-5273-480f-9e7d-8230b019ff50')\"\n",
              "              title=\"Convert this dataframe to an interactive table.\"\n",
              "              style=\"display:none;\">\n",
              "        \n",
              "  <svg xmlns=\"http://www.w3.org/2000/svg\" height=\"24px\"viewBox=\"0 0 24 24\"\n",
              "       width=\"24px\">\n",
              "    <path d=\"M0 0h24v24H0V0z\" fill=\"none\"/>\n",
              "    <path d=\"M18.56 5.44l.94 2.06.94-2.06 2.06-.94-2.06-.94-.94-2.06-.94 2.06-2.06.94zm-11 1L8.5 8.5l.94-2.06 2.06-.94-2.06-.94L8.5 2.5l-.94 2.06-2.06.94zm10 10l.94 2.06.94-2.06 2.06-.94-2.06-.94-.94-2.06-.94 2.06-2.06.94z\"/><path d=\"M17.41 7.96l-1.37-1.37c-.4-.4-.92-.59-1.43-.59-.52 0-1.04.2-1.43.59L10.3 9.45l-7.72 7.72c-.78.78-.78 2.05 0 2.83L4 21.41c.39.39.9.59 1.41.59.51 0 1.02-.2 1.41-.59l7.78-7.78 2.81-2.81c.8-.78.8-2.07 0-2.86zM5.41 20L4 18.59l7.72-7.72 1.47 1.35L5.41 20z\"/>\n",
              "  </svg>\n",
              "      </button>\n",
              "      \n",
              "  <style>\n",
              "    .colab-df-container {\n",
              "      display:flex;\n",
              "      flex-wrap:wrap;\n",
              "      gap: 12px;\n",
              "    }\n",
              "\n",
              "    .colab-df-convert {\n",
              "      background-color: #E8F0FE;\n",
              "      border: none;\n",
              "      border-radius: 50%;\n",
              "      cursor: pointer;\n",
              "      display: none;\n",
              "      fill: #1967D2;\n",
              "      height: 32px;\n",
              "      padding: 0 0 0 0;\n",
              "      width: 32px;\n",
              "    }\n",
              "\n",
              "    .colab-df-convert:hover {\n",
              "      background-color: #E2EBFA;\n",
              "      box-shadow: 0px 1px 2px rgba(60, 64, 67, 0.3), 0px 1px 3px 1px rgba(60, 64, 67, 0.15);\n",
              "      fill: #174EA6;\n",
              "    }\n",
              "\n",
              "    [theme=dark] .colab-df-convert {\n",
              "      background-color: #3B4455;\n",
              "      fill: #D2E3FC;\n",
              "    }\n",
              "\n",
              "    [theme=dark] .colab-df-convert:hover {\n",
              "      background-color: #434B5C;\n",
              "      box-shadow: 0px 1px 3px 1px rgba(0, 0, 0, 0.15);\n",
              "      filter: drop-shadow(0px 1px 2px rgba(0, 0, 0, 0.3));\n",
              "      fill: #FFFFFF;\n",
              "    }\n",
              "  </style>\n",
              "\n",
              "      <script>\n",
              "        const buttonEl =\n",
              "          document.querySelector('#df-161296e0-5273-480f-9e7d-8230b019ff50 button.colab-df-convert');\n",
              "        buttonEl.style.display =\n",
              "          google.colab.kernel.accessAllowed ? 'block' : 'none';\n",
              "\n",
              "        async function convertToInteractive(key) {\n",
              "          const element = document.querySelector('#df-161296e0-5273-480f-9e7d-8230b019ff50');\n",
              "          const dataTable =\n",
              "            await google.colab.kernel.invokeFunction('convertToInteractive',\n",
              "                                                     [key], {});\n",
              "          if (!dataTable) return;\n",
              "\n",
              "          const docLinkHtml = 'Like what you see? Visit the ' +\n",
              "            '<a target=\"_blank\" href=https://colab.research.google.com/notebooks/data_table.ipynb>data table notebook</a>'\n",
              "            + ' to learn more about interactive tables.';\n",
              "          element.innerHTML = '';\n",
              "          dataTable['output_type'] = 'display_data';\n",
              "          await google.colab.output.renderOutput(dataTable, element);\n",
              "          const docLink = document.createElement('div');\n",
              "          docLink.innerHTML = docLinkHtml;\n",
              "          element.appendChild(docLink);\n",
              "        }\n",
              "      </script>\n",
              "    </div>\n",
              "  </div>\n",
              "  "
            ]
          },
          "metadata": {},
          "execution_count": 134
        }
      ]
    },
    {
      "cell_type": "code",
      "source": [
        "lst.head()"
      ],
      "metadata": {
        "colab": {
          "base_uri": "https://localhost:8080/",
          "height": 768
        },
        "id": "QbVO_BIMo_jO",
        "outputId": "9f4827c6-15ca-48d3-d25f-e6da70c67bfa"
      },
      "execution_count": 135,
      "outputs": [
        {
          "output_type": "execute_result",
          "data": {
            "text/plain": [
              "         id                            listing_url       scrape_id  \\\n",
              "0  12147973  https://www.airbnb.com/rooms/12147973  20160906204935   \n",
              "1   3075044   https://www.airbnb.com/rooms/3075044  20160906204935   \n",
              "2      6976      https://www.airbnb.com/rooms/6976  20160906204935   \n",
              "3   1436513   https://www.airbnb.com/rooms/1436513  20160906204935   \n",
              "4   7651065   https://www.airbnb.com/rooms/7651065  20160906204935   \n",
              "\n",
              "  last_scraped                                           name  \\\n",
              "0   2016-09-07                     Sunny Bungalow in the City   \n",
              "1   2016-09-07              Charming room in pet friendly apt   \n",
              "2   2016-09-07               Mexican Folk Art Haven in Boston   \n",
              "3   2016-09-07  Spacious Sunny Bedroom Suite in Historic Home   \n",
              "4   2016-09-07                            Come Home to Boston   \n",
              "\n",
              "                                             summary  \\\n",
              "0  Cozy, sunny, family home.  Master bedroom high...   \n",
              "1  Charming and quiet room in a second floor 1910...   \n",
              "2  Come stay with a friendly, middle-aged guy in ...   \n",
              "3  Come experience the comforts of home away from...   \n",
              "4  My comfy, clean and relaxing home is one block...   \n",
              "\n",
              "                                               space  \\\n",
              "0  The house has an open and cozy feel at the sam...   \n",
              "1  Small but cozy and quite room with a full size...   \n",
              "2  Come stay with a friendly, middle-aged guy in ...   \n",
              "3  Most places you find in Boston are small howev...   \n",
              "4  Clean, attractive, private room, one block fro...   \n",
              "\n",
              "                                         description experiences_offered  \\\n",
              "0  Cozy, sunny, family home.  Master bedroom high...                none   \n",
              "1  Charming and quiet room in a second floor 1910...                none   \n",
              "2  Come stay with a friendly, middle-aged guy in ...                none   \n",
              "3  Come experience the comforts of home away from...                none   \n",
              "4  My comfy, clean and relaxing home is one block...                none   \n",
              "\n",
              "                               neighborhood_overview  ... review_scores_value  \\\n",
              "0  Roslindale is quiet, convenient and friendly. ...  ...                 NaN   \n",
              "1  The room is in Roslindale, a diverse and prima...  ...                 9.0   \n",
              "2  The LOCATION: Roslindale is a safe and diverse...  ...                10.0   \n",
              "3  Roslindale is a lovely little neighborhood loc...  ...                10.0   \n",
              "4  I love the proximity to downtown, the neighbor...  ...                10.0   \n",
              "\n",
              "  requires_license license jurisdiction_names instant_bookable  \\\n",
              "0                f     NaN                NaN                f   \n",
              "1                f     NaN                NaN                t   \n",
              "2                f     NaN                NaN                f   \n",
              "3                f     NaN                NaN                f   \n",
              "4                f     NaN                NaN                f   \n",
              "\n",
              "  cancellation_policy require_guest_profile_picture  \\\n",
              "0            moderate                             f   \n",
              "1            moderate                             f   \n",
              "2            moderate                             t   \n",
              "3            moderate                             f   \n",
              "4            flexible                             f   \n",
              "\n",
              "  require_guest_phone_verification calculated_host_listings_count  \\\n",
              "0                                f                              1   \n",
              "1                                f                              1   \n",
              "2                                f                              1   \n",
              "3                                f                              1   \n",
              "4                                f                              1   \n",
              "\n",
              "   reviews_per_month  \n",
              "0                NaN  \n",
              "1               1.30  \n",
              "2               0.47  \n",
              "3               1.00  \n",
              "4               2.25  \n",
              "\n",
              "[5 rows x 95 columns]"
            ],
            "text/html": [
              "\n",
              "  <div id=\"df-a0a55fa9-84e9-4e86-a600-598ff752f9bc\">\n",
              "    <div class=\"colab-df-container\">\n",
              "      <div>\n",
              "<style scoped>\n",
              "    .dataframe tbody tr th:only-of-type {\n",
              "        vertical-align: middle;\n",
              "    }\n",
              "\n",
              "    .dataframe tbody tr th {\n",
              "        vertical-align: top;\n",
              "    }\n",
              "\n",
              "    .dataframe thead th {\n",
              "        text-align: right;\n",
              "    }\n",
              "</style>\n",
              "<table border=\"1\" class=\"dataframe\">\n",
              "  <thead>\n",
              "    <tr style=\"text-align: right;\">\n",
              "      <th></th>\n",
              "      <th>id</th>\n",
              "      <th>listing_url</th>\n",
              "      <th>scrape_id</th>\n",
              "      <th>last_scraped</th>\n",
              "      <th>name</th>\n",
              "      <th>summary</th>\n",
              "      <th>space</th>\n",
              "      <th>description</th>\n",
              "      <th>experiences_offered</th>\n",
              "      <th>neighborhood_overview</th>\n",
              "      <th>...</th>\n",
              "      <th>review_scores_value</th>\n",
              "      <th>requires_license</th>\n",
              "      <th>license</th>\n",
              "      <th>jurisdiction_names</th>\n",
              "      <th>instant_bookable</th>\n",
              "      <th>cancellation_policy</th>\n",
              "      <th>require_guest_profile_picture</th>\n",
              "      <th>require_guest_phone_verification</th>\n",
              "      <th>calculated_host_listings_count</th>\n",
              "      <th>reviews_per_month</th>\n",
              "    </tr>\n",
              "  </thead>\n",
              "  <tbody>\n",
              "    <tr>\n",
              "      <th>0</th>\n",
              "      <td>12147973</td>\n",
              "      <td>https://www.airbnb.com/rooms/12147973</td>\n",
              "      <td>20160906204935</td>\n",
              "      <td>2016-09-07</td>\n",
              "      <td>Sunny Bungalow in the City</td>\n",
              "      <td>Cozy, sunny, family home.  Master bedroom high...</td>\n",
              "      <td>The house has an open and cozy feel at the sam...</td>\n",
              "      <td>Cozy, sunny, family home.  Master bedroom high...</td>\n",
              "      <td>none</td>\n",
              "      <td>Roslindale is quiet, convenient and friendly. ...</td>\n",
              "      <td>...</td>\n",
              "      <td>NaN</td>\n",
              "      <td>f</td>\n",
              "      <td>NaN</td>\n",
              "      <td>NaN</td>\n",
              "      <td>f</td>\n",
              "      <td>moderate</td>\n",
              "      <td>f</td>\n",
              "      <td>f</td>\n",
              "      <td>1</td>\n",
              "      <td>NaN</td>\n",
              "    </tr>\n",
              "    <tr>\n",
              "      <th>1</th>\n",
              "      <td>3075044</td>\n",
              "      <td>https://www.airbnb.com/rooms/3075044</td>\n",
              "      <td>20160906204935</td>\n",
              "      <td>2016-09-07</td>\n",
              "      <td>Charming room in pet friendly apt</td>\n",
              "      <td>Charming and quiet room in a second floor 1910...</td>\n",
              "      <td>Small but cozy and quite room with a full size...</td>\n",
              "      <td>Charming and quiet room in a second floor 1910...</td>\n",
              "      <td>none</td>\n",
              "      <td>The room is in Roslindale, a diverse and prima...</td>\n",
              "      <td>...</td>\n",
              "      <td>9.0</td>\n",
              "      <td>f</td>\n",
              "      <td>NaN</td>\n",
              "      <td>NaN</td>\n",
              "      <td>t</td>\n",
              "      <td>moderate</td>\n",
              "      <td>f</td>\n",
              "      <td>f</td>\n",
              "      <td>1</td>\n",
              "      <td>1.30</td>\n",
              "    </tr>\n",
              "    <tr>\n",
              "      <th>2</th>\n",
              "      <td>6976</td>\n",
              "      <td>https://www.airbnb.com/rooms/6976</td>\n",
              "      <td>20160906204935</td>\n",
              "      <td>2016-09-07</td>\n",
              "      <td>Mexican Folk Art Haven in Boston</td>\n",
              "      <td>Come stay with a friendly, middle-aged guy in ...</td>\n",
              "      <td>Come stay with a friendly, middle-aged guy in ...</td>\n",
              "      <td>Come stay with a friendly, middle-aged guy in ...</td>\n",
              "      <td>none</td>\n",
              "      <td>The LOCATION: Roslindale is a safe and diverse...</td>\n",
              "      <td>...</td>\n",
              "      <td>10.0</td>\n",
              "      <td>f</td>\n",
              "      <td>NaN</td>\n",
              "      <td>NaN</td>\n",
              "      <td>f</td>\n",
              "      <td>moderate</td>\n",
              "      <td>t</td>\n",
              "      <td>f</td>\n",
              "      <td>1</td>\n",
              "      <td>0.47</td>\n",
              "    </tr>\n",
              "    <tr>\n",
              "      <th>3</th>\n",
              "      <td>1436513</td>\n",
              "      <td>https://www.airbnb.com/rooms/1436513</td>\n",
              "      <td>20160906204935</td>\n",
              "      <td>2016-09-07</td>\n",
              "      <td>Spacious Sunny Bedroom Suite in Historic Home</td>\n",
              "      <td>Come experience the comforts of home away from...</td>\n",
              "      <td>Most places you find in Boston are small howev...</td>\n",
              "      <td>Come experience the comforts of home away from...</td>\n",
              "      <td>none</td>\n",
              "      <td>Roslindale is a lovely little neighborhood loc...</td>\n",
              "      <td>...</td>\n",
              "      <td>10.0</td>\n",
              "      <td>f</td>\n",
              "      <td>NaN</td>\n",
              "      <td>NaN</td>\n",
              "      <td>f</td>\n",
              "      <td>moderate</td>\n",
              "      <td>f</td>\n",
              "      <td>f</td>\n",
              "      <td>1</td>\n",
              "      <td>1.00</td>\n",
              "    </tr>\n",
              "    <tr>\n",
              "      <th>4</th>\n",
              "      <td>7651065</td>\n",
              "      <td>https://www.airbnb.com/rooms/7651065</td>\n",
              "      <td>20160906204935</td>\n",
              "      <td>2016-09-07</td>\n",
              "      <td>Come Home to Boston</td>\n",
              "      <td>My comfy, clean and relaxing home is one block...</td>\n",
              "      <td>Clean, attractive, private room, one block fro...</td>\n",
              "      <td>My comfy, clean and relaxing home is one block...</td>\n",
              "      <td>none</td>\n",
              "      <td>I love the proximity to downtown, the neighbor...</td>\n",
              "      <td>...</td>\n",
              "      <td>10.0</td>\n",
              "      <td>f</td>\n",
              "      <td>NaN</td>\n",
              "      <td>NaN</td>\n",
              "      <td>f</td>\n",
              "      <td>flexible</td>\n",
              "      <td>f</td>\n",
              "      <td>f</td>\n",
              "      <td>1</td>\n",
              "      <td>2.25</td>\n",
              "    </tr>\n",
              "  </tbody>\n",
              "</table>\n",
              "<p>5 rows × 95 columns</p>\n",
              "</div>\n",
              "      <button class=\"colab-df-convert\" onclick=\"convertToInteractive('df-a0a55fa9-84e9-4e86-a600-598ff752f9bc')\"\n",
              "              title=\"Convert this dataframe to an interactive table.\"\n",
              "              style=\"display:none;\">\n",
              "        \n",
              "  <svg xmlns=\"http://www.w3.org/2000/svg\" height=\"24px\"viewBox=\"0 0 24 24\"\n",
              "       width=\"24px\">\n",
              "    <path d=\"M0 0h24v24H0V0z\" fill=\"none\"/>\n",
              "    <path d=\"M18.56 5.44l.94 2.06.94-2.06 2.06-.94-2.06-.94-.94-2.06-.94 2.06-2.06.94zm-11 1L8.5 8.5l.94-2.06 2.06-.94-2.06-.94L8.5 2.5l-.94 2.06-2.06.94zm10 10l.94 2.06.94-2.06 2.06-.94-2.06-.94-.94-2.06-.94 2.06-2.06.94z\"/><path d=\"M17.41 7.96l-1.37-1.37c-.4-.4-.92-.59-1.43-.59-.52 0-1.04.2-1.43.59L10.3 9.45l-7.72 7.72c-.78.78-.78 2.05 0 2.83L4 21.41c.39.39.9.59 1.41.59.51 0 1.02-.2 1.41-.59l7.78-7.78 2.81-2.81c.8-.78.8-2.07 0-2.86zM5.41 20L4 18.59l7.72-7.72 1.47 1.35L5.41 20z\"/>\n",
              "  </svg>\n",
              "      </button>\n",
              "      \n",
              "  <style>\n",
              "    .colab-df-container {\n",
              "      display:flex;\n",
              "      flex-wrap:wrap;\n",
              "      gap: 12px;\n",
              "    }\n",
              "\n",
              "    .colab-df-convert {\n",
              "      background-color: #E8F0FE;\n",
              "      border: none;\n",
              "      border-radius: 50%;\n",
              "      cursor: pointer;\n",
              "      display: none;\n",
              "      fill: #1967D2;\n",
              "      height: 32px;\n",
              "      padding: 0 0 0 0;\n",
              "      width: 32px;\n",
              "    }\n",
              "\n",
              "    .colab-df-convert:hover {\n",
              "      background-color: #E2EBFA;\n",
              "      box-shadow: 0px 1px 2px rgba(60, 64, 67, 0.3), 0px 1px 3px 1px rgba(60, 64, 67, 0.15);\n",
              "      fill: #174EA6;\n",
              "    }\n",
              "\n",
              "    [theme=dark] .colab-df-convert {\n",
              "      background-color: #3B4455;\n",
              "      fill: #D2E3FC;\n",
              "    }\n",
              "\n",
              "    [theme=dark] .colab-df-convert:hover {\n",
              "      background-color: #434B5C;\n",
              "      box-shadow: 0px 1px 3px 1px rgba(0, 0, 0, 0.15);\n",
              "      filter: drop-shadow(0px 1px 2px rgba(0, 0, 0, 0.3));\n",
              "      fill: #FFFFFF;\n",
              "    }\n",
              "  </style>\n",
              "\n",
              "      <script>\n",
              "        const buttonEl =\n",
              "          document.querySelector('#df-a0a55fa9-84e9-4e86-a600-598ff752f9bc button.colab-df-convert');\n",
              "        buttonEl.style.display =\n",
              "          google.colab.kernel.accessAllowed ? 'block' : 'none';\n",
              "\n",
              "        async function convertToInteractive(key) {\n",
              "          const element = document.querySelector('#df-a0a55fa9-84e9-4e86-a600-598ff752f9bc');\n",
              "          const dataTable =\n",
              "            await google.colab.kernel.invokeFunction('convertToInteractive',\n",
              "                                                     [key], {});\n",
              "          if (!dataTable) return;\n",
              "\n",
              "          const docLinkHtml = 'Like what you see? Visit the ' +\n",
              "            '<a target=\"_blank\" href=https://colab.research.google.com/notebooks/data_table.ipynb>data table notebook</a>'\n",
              "            + ' to learn more about interactive tables.';\n",
              "          element.innerHTML = '';\n",
              "          dataTable['output_type'] = 'display_data';\n",
              "          await google.colab.output.renderOutput(dataTable, element);\n",
              "          const docLink = document.createElement('div');\n",
              "          docLink.innerHTML = docLinkHtml;\n",
              "          element.appendChild(docLink);\n",
              "        }\n",
              "      </script>\n",
              "    </div>\n",
              "  </div>\n",
              "  "
            ]
          },
          "metadata": {},
          "execution_count": 135
        }
      ]
    },
    {
      "cell_type": "code",
      "source": [
        "rev.head()"
      ],
      "metadata": {
        "colab": {
          "base_uri": "https://localhost:8080/",
          "height": 206
        },
        "id": "IIw5cXWGpCJO",
        "outputId": "f798fce0-f218-4f90-90ec-b05aba3ac3fd"
      },
      "execution_count": 136,
      "outputs": [
        {
          "output_type": "execute_result",
          "data": {
            "text/plain": [
              "   listing_id       id        date  reviewer_id reviewer_name  \\\n",
              "0     1178162  4724140  2013-05-21      4298113       Olivier   \n",
              "1     1178162  4869189  2013-05-29      6452964     Charlotte   \n",
              "2     1178162  5003196  2013-06-06      6449554     Sebastian   \n",
              "3     1178162  5150351  2013-06-15      2215611        Marine   \n",
              "4     1178162  5171140  2013-06-16      6848427        Andrew   \n",
              "\n",
              "                                            comments  \n",
              "0  My stay at islam's place was really cool! Good...  \n",
              "1  Great location for both airport and city - gre...  \n",
              "2  We really enjoyed our stay at Islams house. Fr...  \n",
              "3  The room was nice and clean and so were the co...  \n",
              "4  Great location. Just 5 mins walk from the Airp...  "
            ],
            "text/html": [
              "\n",
              "  <div id=\"df-f254b53f-ac6a-4a66-bf85-f6e7482bd297\">\n",
              "    <div class=\"colab-df-container\">\n",
              "      <div>\n",
              "<style scoped>\n",
              "    .dataframe tbody tr th:only-of-type {\n",
              "        vertical-align: middle;\n",
              "    }\n",
              "\n",
              "    .dataframe tbody tr th {\n",
              "        vertical-align: top;\n",
              "    }\n",
              "\n",
              "    .dataframe thead th {\n",
              "        text-align: right;\n",
              "    }\n",
              "</style>\n",
              "<table border=\"1\" class=\"dataframe\">\n",
              "  <thead>\n",
              "    <tr style=\"text-align: right;\">\n",
              "      <th></th>\n",
              "      <th>listing_id</th>\n",
              "      <th>id</th>\n",
              "      <th>date</th>\n",
              "      <th>reviewer_id</th>\n",
              "      <th>reviewer_name</th>\n",
              "      <th>comments</th>\n",
              "    </tr>\n",
              "  </thead>\n",
              "  <tbody>\n",
              "    <tr>\n",
              "      <th>0</th>\n",
              "      <td>1178162</td>\n",
              "      <td>4724140</td>\n",
              "      <td>2013-05-21</td>\n",
              "      <td>4298113</td>\n",
              "      <td>Olivier</td>\n",
              "      <td>My stay at islam's place was really cool! Good...</td>\n",
              "    </tr>\n",
              "    <tr>\n",
              "      <th>1</th>\n",
              "      <td>1178162</td>\n",
              "      <td>4869189</td>\n",
              "      <td>2013-05-29</td>\n",
              "      <td>6452964</td>\n",
              "      <td>Charlotte</td>\n",
              "      <td>Great location for both airport and city - gre...</td>\n",
              "    </tr>\n",
              "    <tr>\n",
              "      <th>2</th>\n",
              "      <td>1178162</td>\n",
              "      <td>5003196</td>\n",
              "      <td>2013-06-06</td>\n",
              "      <td>6449554</td>\n",
              "      <td>Sebastian</td>\n",
              "      <td>We really enjoyed our stay at Islams house. Fr...</td>\n",
              "    </tr>\n",
              "    <tr>\n",
              "      <th>3</th>\n",
              "      <td>1178162</td>\n",
              "      <td>5150351</td>\n",
              "      <td>2013-06-15</td>\n",
              "      <td>2215611</td>\n",
              "      <td>Marine</td>\n",
              "      <td>The room was nice and clean and so were the co...</td>\n",
              "    </tr>\n",
              "    <tr>\n",
              "      <th>4</th>\n",
              "      <td>1178162</td>\n",
              "      <td>5171140</td>\n",
              "      <td>2013-06-16</td>\n",
              "      <td>6848427</td>\n",
              "      <td>Andrew</td>\n",
              "      <td>Great location. Just 5 mins walk from the Airp...</td>\n",
              "    </tr>\n",
              "  </tbody>\n",
              "</table>\n",
              "</div>\n",
              "      <button class=\"colab-df-convert\" onclick=\"convertToInteractive('df-f254b53f-ac6a-4a66-bf85-f6e7482bd297')\"\n",
              "              title=\"Convert this dataframe to an interactive table.\"\n",
              "              style=\"display:none;\">\n",
              "        \n",
              "  <svg xmlns=\"http://www.w3.org/2000/svg\" height=\"24px\"viewBox=\"0 0 24 24\"\n",
              "       width=\"24px\">\n",
              "    <path d=\"M0 0h24v24H0V0z\" fill=\"none\"/>\n",
              "    <path d=\"M18.56 5.44l.94 2.06.94-2.06 2.06-.94-2.06-.94-.94-2.06-.94 2.06-2.06.94zm-11 1L8.5 8.5l.94-2.06 2.06-.94-2.06-.94L8.5 2.5l-.94 2.06-2.06.94zm10 10l.94 2.06.94-2.06 2.06-.94-2.06-.94-.94-2.06-.94 2.06-2.06.94z\"/><path d=\"M17.41 7.96l-1.37-1.37c-.4-.4-.92-.59-1.43-.59-.52 0-1.04.2-1.43.59L10.3 9.45l-7.72 7.72c-.78.78-.78 2.05 0 2.83L4 21.41c.39.39.9.59 1.41.59.51 0 1.02-.2 1.41-.59l7.78-7.78 2.81-2.81c.8-.78.8-2.07 0-2.86zM5.41 20L4 18.59l7.72-7.72 1.47 1.35L5.41 20z\"/>\n",
              "  </svg>\n",
              "      </button>\n",
              "      \n",
              "  <style>\n",
              "    .colab-df-container {\n",
              "      display:flex;\n",
              "      flex-wrap:wrap;\n",
              "      gap: 12px;\n",
              "    }\n",
              "\n",
              "    .colab-df-convert {\n",
              "      background-color: #E8F0FE;\n",
              "      border: none;\n",
              "      border-radius: 50%;\n",
              "      cursor: pointer;\n",
              "      display: none;\n",
              "      fill: #1967D2;\n",
              "      height: 32px;\n",
              "      padding: 0 0 0 0;\n",
              "      width: 32px;\n",
              "    }\n",
              "\n",
              "    .colab-df-convert:hover {\n",
              "      background-color: #E2EBFA;\n",
              "      box-shadow: 0px 1px 2px rgba(60, 64, 67, 0.3), 0px 1px 3px 1px rgba(60, 64, 67, 0.15);\n",
              "      fill: #174EA6;\n",
              "    }\n",
              "\n",
              "    [theme=dark] .colab-df-convert {\n",
              "      background-color: #3B4455;\n",
              "      fill: #D2E3FC;\n",
              "    }\n",
              "\n",
              "    [theme=dark] .colab-df-convert:hover {\n",
              "      background-color: #434B5C;\n",
              "      box-shadow: 0px 1px 3px 1px rgba(0, 0, 0, 0.15);\n",
              "      filter: drop-shadow(0px 1px 2px rgba(0, 0, 0, 0.3));\n",
              "      fill: #FFFFFF;\n",
              "    }\n",
              "  </style>\n",
              "\n",
              "      <script>\n",
              "        const buttonEl =\n",
              "          document.querySelector('#df-f254b53f-ac6a-4a66-bf85-f6e7482bd297 button.colab-df-convert');\n",
              "        buttonEl.style.display =\n",
              "          google.colab.kernel.accessAllowed ? 'block' : 'none';\n",
              "\n",
              "        async function convertToInteractive(key) {\n",
              "          const element = document.querySelector('#df-f254b53f-ac6a-4a66-bf85-f6e7482bd297');\n",
              "          const dataTable =\n",
              "            await google.colab.kernel.invokeFunction('convertToInteractive',\n",
              "                                                     [key], {});\n",
              "          if (!dataTable) return;\n",
              "\n",
              "          const docLinkHtml = 'Like what you see? Visit the ' +\n",
              "            '<a target=\"_blank\" href=https://colab.research.google.com/notebooks/data_table.ipynb>data table notebook</a>'\n",
              "            + ' to learn more about interactive tables.';\n",
              "          element.innerHTML = '';\n",
              "          dataTable['output_type'] = 'display_data';\n",
              "          await google.colab.output.renderOutput(dataTable, element);\n",
              "          const docLink = document.createElement('div');\n",
              "          docLink.innerHTML = docLinkHtml;\n",
              "          element.appendChild(docLink);\n",
              "        }\n",
              "      </script>\n",
              "    </div>\n",
              "  </div>\n",
              "  "
            ]
          },
          "metadata": {},
          "execution_count": 136
        }
      ]
    },
    {
      "cell_type": "code",
      "source": [
        "# print the shape of each table\n",
        "print(cal.shape)\n",
        "print(lst.shape)\n",
        "print(rev.shape)"
      ],
      "metadata": {
        "colab": {
          "base_uri": "https://localhost:8080/"
        },
        "id": "maLDrNYohm6A",
        "outputId": "b1f72e7e-8a5b-4017-dcc5-e7222e9fab6f"
      },
      "execution_count": 137,
      "outputs": [
        {
          "output_type": "stream",
          "name": "stdout",
          "text": [
            "(1308890, 4)\n",
            "(3585, 95)\n",
            "(68275, 6)\n"
          ]
        }
      ]
    },
    {
      "cell_type": "markdown",
      "source": [
        "## 2.2) Null value analysis"
      ],
      "metadata": {
        "id": "pKYh_APGpeZ2"
      }
    },
    {
      "cell_type": "code",
      "source": [
        "#Check null percentage \n",
        "null_col =lst.loc[:,list(lst.loc[:,lst.isnull().any()].columns)]\n",
        "null_col.isnull().sum()/(len(lst))*100"
      ],
      "metadata": {
        "colab": {
          "base_uri": "https://localhost:8080/"
        },
        "id": "LXO3NoerWRbw",
        "outputId": "0a0b3d2c-31f5-431b-8d01-1af636d0f90b"
      },
      "execution_count": 138,
      "outputs": [
        {
          "output_type": "execute_result",
          "data": {
            "text/plain": [
              "summary                           3.988842\n",
              "space                            29.483961\n",
              "neighborhood_overview            39.470014\n",
              "notes                            55.090656\n",
              "transit                          35.983264\n",
              "access                           41.534170\n",
              "interaction                      43.347280\n",
              "house_rules                      33.249651\n",
              "thumbnail_url                    16.708508\n",
              "medium_url                       16.708508\n",
              "xl_picture_url                   16.708508\n",
              "host_location                     0.306834\n",
              "host_about                       36.513250\n",
              "host_response_time               13.138075\n",
              "host_response_rate               13.138075\n",
              "host_acceptance_rate             13.138075\n",
              "host_neighbourhood                9.456067\n",
              "neighbourhood                    15.146444\n",
              "neighbourhood_group_cleansed    100.000000\n",
              "city                              0.055788\n",
              "zipcode                           1.059972\n",
              "market                            0.390516\n",
              "property_type                     0.083682\n",
              "bathrooms                         0.390516\n",
              "bedrooms                          0.278940\n",
              "beds                              0.251046\n",
              "square_feet                      98.437936\n",
              "weekly_price                     75.118550\n",
              "monthly_price                    75.230126\n",
              "security_deposit                 62.566248\n",
              "cleaning_fee                     30.878661\n",
              "has_availability                100.000000\n",
              "first_review                     21.087866\n",
              "last_review                      21.087866\n",
              "review_scores_rating             22.677824\n",
              "review_scores_accuracy           22.956764\n",
              "review_scores_cleanliness        22.817294\n",
              "review_scores_checkin            22.873082\n",
              "review_scores_communication      22.817294\n",
              "review_scores_location           22.928870\n",
              "review_scores_value              22.900976\n",
              "license                         100.000000\n",
              "jurisdiction_names              100.000000\n",
              "reviews_per_month                21.087866\n",
              "dtype: float64"
            ]
          },
          "metadata": {},
          "execution_count": 138
        }
      ]
    },
    {
      "cell_type": "code",
      "source": [
        "# use missingno for better visualization white space = null\n",
        "import missingno\n",
        "df = lst.columns[lst.isnull().any()].tolist()\n",
        "missingno.matrix(lst[df])"
      ],
      "metadata": {
        "colab": {
          "base_uri": "https://localhost:8080/",
          "height": 539
        },
        "id": "MZnOZ_agT8m9",
        "outputId": "92333323-f576-47d6-9da1-7f3b0e074083"
      },
      "execution_count": 139,
      "outputs": [
        {
          "output_type": "execute_result",
          "data": {
            "text/plain": [
              "<matplotlib.axes._subplots.AxesSubplot at 0x7f40cf4c2280>"
            ]
          },
          "metadata": {},
          "execution_count": 139
        },
        {
          "output_type": "display_data",
          "data": {
            "text/plain": [
              "<Figure size 1800x720 with 2 Axes>"
            ],
            "image/png": "[encoded data removed]"
          },
          "metadata": {
            "needs_background": "light"
          }
        }
      ]
    },
    {
      "cell_type": "code",
      "source": [
        "lst['price'].isnull().sum()"
      ],
      "metadata": {
        "colab": {
          "base_uri": "https://localhost:8080/"
        },
        "id": "31x05IWH9azy",
        "outputId": "5d1a9867-4df1-449c-d6c7-b42c4495327a"
      },
      "execution_count": 140,
      "outputs": [
        {
          "output_type": "execute_result",
          "data": {
            "text/plain": [
              "0"
            ]
          },
          "metadata": {},
          "execution_count": 140
        }
      ]
    },
    {
      "cell_type": "markdown",
      "source": [
        "- Conclusion about null distribution in dataset: \n",
        "  - There are a lot of column with missing value but currently we will ignore that.\n",
        "  - At least our target is not null"
      ],
      "metadata": {
        "id": "yq8q4pYXW739"
      }
    },
    {
      "cell_type": "markdown",
      "source": [
        "#Section 3. Data preparation"
      ],
      "metadata": {
        "id": "yD91LpFY5Tgg"
      }
    },
    {
      "cell_type": "markdown",
      "source": [
        "Building utility fuction create plot for our question"
      ],
      "metadata": {
        "id": "ads3orTYXWYk"
      }
    },
    {
      "cell_type": "code",
      "source": [
        "#convert price to number \n",
        "lst['price']=lst['price'].str.replace(',','').str.replace('$','').astype('float')"
      ],
      "metadata": {
        "colab": {
          "base_uri": "https://localhost:8080/"
        },
        "id": "IZEWsRW88ehz",
        "outputId": "2877535a-6580-4860-9147-2ce974da8fd0"
      },
      "execution_count": 141,
      "outputs": [
        {
          "output_type": "stream",
          "name": "stderr",
          "text": [
            "<ipython-input-141-ed5b4b956c0c>:2: FutureWarning: The default value of regex will change from True to False in a future version. In addition, single character regular expressions will *not* be treated as literal strings when regex=True.\n",
            "  lst['price']=lst['price'].str.replace(',','').str.replace('$','').astype('float')\n"
          ]
        }
      ]
    },
    {
      "cell_type": "code",
      "source": [
        "figure(figsize=(8, 6), dpi=80)\n",
        "def plot_bar(col, title):\n",
        "  '''\n",
        "  returns bar chart of the given columns\n",
        "\n",
        "  input:\n",
        "        col: str - name of the columns\n",
        "        title : str - title of the chart \n",
        "  output: \n",
        "        return graph: mtplotlib object-  bar chart of the given columns\n",
        "  '''\n",
        "  \n",
        "  val = lst[col].value_counts()\n",
        "  plt.title(title)\n",
        "  graph = sns.barplot(y=val.index, x=val)\n",
        "  return graph\n",
        "\n"
      ],
      "metadata": {
        "colab": {
          "base_uri": "https://localhost:8080/",
          "height": 34
        },
        "id": "EoDdm0e0XWJ1",
        "outputId": "0150d194-8e24-402c-be46-0834b1d1bc72"
      },
      "execution_count": 158,
      "outputs": [
        {
          "output_type": "display_data",
          "data": {
            "text/plain": [
              "<Figure size 640x480 with 0 Axes>"
            ]
          },
          "metadata": {}
        }
      ]
    },
    {
      "cell_type": "code",
      "source": [
        "#Let's look at price range and distribution\n",
        "figure(figsize=(8, 6), dpi=80)\n",
        "def hist_plot(col, title, xtitle):\n",
        "\n",
        "  '''\n",
        "   returns histogram of the given columns\n",
        "\n",
        "  input:\n",
        "        col: str - name of the columns\n",
        "        title: str -  title of the chart \n",
        "        xtitle: str -  axis name of the chart \n",
        "  output: \n",
        "        graph: matplotlib object - histogram of the given columns\n",
        "  '''\n",
        "  plt.title(title)\n",
        "  plt.xlabel(xtitle)\n",
        "  graph = sns.histplot(lst[col])\n",
        "  return graph \n",
        "  \n"
      ],
      "metadata": {
        "colab": {
          "base_uri": "https://localhost:8080/",
          "height": 34
        },
        "id": "AnuaewJ1Z5wY",
        "outputId": "fb0fbad8-ca29-47cc-808f-5885b0ca5799"
      },
      "execution_count": 143,
      "outputs": [
        {
          "output_type": "display_data",
          "data": {
            "text/plain": [
              "<Figure size 640x480 with 0 Axes>"
            ]
          },
          "metadata": {}
        }
      ]
    },
    {
      "cell_type": "markdown",
      "source": [
        "From a data scietist perspective. it is clearly that our data has an outlier  however, I'm not a house expert so I will not delete that to make our data unbias, who know maybe there is a luxury 6 stars hotel with 4000$ per room actually existed"
      ],
      "metadata": {
        "id": "Xg9-dAW-atOu"
      }
    },
    {
      "cell_type": "code",
      "source": [
        "#covenrt to date time data\n",
        "rev['date'] = pd.to_datetime(rev.date)  \n",
        "month = rev['date'].dt.month \n",
        "rev['Month'] = month"
      ],
      "metadata": {
        "id": "iKy4iL2FFRUe"
      },
      "execution_count": 144,
      "outputs": []
    },
    {
      "cell_type": "code",
      "source": [
        "def plot_freq():\n",
        "  '''\n",
        "   returns frequency of the of the renting rate by month\n",
        "   input : no parameter is required\n",
        "   output: \n",
        "          graph: matplotlib object -  frequency of the of the renting by month\n",
        "  '''\n",
        "  Month = rev.groupby('Month').agg('count')['id'].sort_values(ascending=False).to_frame().reset_index()\n",
        "  graph = sns.barplot(data=Month,x= 'Month', y='id' )\n",
        "  return graph"
      ],
      "metadata": {
        "colab": {
          "base_uri": "https://localhost:8080/",
          "height": 296
        },
        "id": "1U-_cPrsGIYm",
        "outputId": "75ea2ecc-a636-4a76-df4c-b45992f569d8"
      },
      "execution_count": 145,
      "outputs": [
        {
          "output_type": "execute_result",
          "data": {
            "text/plain": [
              "<matplotlib.axes._subplots.AxesSubplot at 0x7f40c8bbe2e0>"
            ]
          },
          "metadata": {},
          "execution_count": 145
        },
        {
          "output_type": "display_data",
          "data": {
            "text/plain": [
              "<Figure size 432x288 with 1 Axes>"
            ],
            "image/png": "[encoded data removed]"
          },
          "metadata": {
            "needs_background": "light"
          }
        }
      ]
    },
    {
      "cell_type": "markdown",
      "source": [
        "#Section 4 Data Modeling\n",
        "we will use lightbgm to build a regression model to predict house price. \n",
        "We will be using both number and categorical columns to create spare feature for predicting price. \n",
        "after getting all the feature we need, we will drop na and create dummy variable for category colmuns"
      ],
      "metadata": {
        "id": "SFeCmw7gJGbR"
      }
    },
    {
      "cell_type": "code",
      "source": [
        "# select number columns\n",
        "num = ['price', 'latitude','longitude', 'accommodates', 'bedrooms', 'bathrooms', 'beds', \n",
        "              'guests_included', 'availability_30', 'availability_60', 'availability_90', \n",
        "             'availability_365', 'review_scores_rating', 'review_scores_accuracy', 'review_scores_cleanliness', \n",
        "             'review_scores_location', 'review_scores_value', 'calculated_host_listings_count']\n",
        "# select category columns\n",
        "cat = ['neighbourhood', 'require_guest_phone_verification', 'bed_type', 'room_type', 'host_is_superhost', 'cancellation_policy', 'property_type', 'is_location_exact']\n"
      ],
      "metadata": {
        "id": "LqSmWgMognkX"
      },
      "execution_count": 146,
      "outputs": []
    },
    {
      "cell_type": "code",
      "source": [
        "data = lst.select_dtypes(include=['int64', 'float64'])[num]\n",
        "data[cat] = lst[cat]\n",
        "price = data.copy()\n",
        "price = price.dropna()    # drop na \n",
        "price = pd.get_dummies(price)  # create dummy variable"
      ],
      "metadata": {
        "id": "YtfFmyRCtoAh"
      },
      "execution_count": 147,
      "outputs": []
    },
    {
      "cell_type": "code",
      "source": [
        "# Split data: to train and test \n",
        "y = price['price']\n",
        "X = price.drop('price',  axis =1 )\n",
        "X_train, X_test, y_train, y_test = train_test_split(X, y, test_size=0.3, random_state=21)"
      ],
      "metadata": {
        "id": "FtrfbH-dGQJA"
      },
      "execution_count": 148,
      "outputs": []
    },
    {
      "cell_type": "code",
      "source": [
        "X_train"
      ],
      "metadata": {
        "colab": {
          "base_uri": "https://localhost:8080/",
          "height": 505
        },
        "id": "WvkV3ofke4XU",
        "outputId": "18465016-67a7-4338-f809-5d1a26f6af0b"
      },
      "execution_count": 149,
      "outputs": [
        {
          "output_type": "execute_result",
          "data": {
            "text/plain": [
              "       latitude  longitude  accommodates  bedrooms  bathrooms  beds  \\\n",
              "1174  42.346433 -71.070916             2       1.0        1.0   1.0   \n",
              "422   42.334678 -71.102513             4       2.0        1.0   2.0   \n",
              "1933  42.360520 -71.064014             3       1.0        1.0   2.0   \n",
              "368   42.310009 -71.101764             2       1.0        1.0   1.0   \n",
              "1998  42.356681 -71.071558             2       1.0        1.0   1.0   \n",
              "...         ...        ...           ...       ...        ...   ...   \n",
              "1651  42.367098 -71.033349             3       0.0        1.0   2.0   \n",
              "59    42.316912 -71.113025             2       1.0        1.0   1.0   \n",
              "1109  42.344032 -71.074080             4       2.0        2.5   2.0   \n",
              "2798  42.301693 -71.062637             4       1.0        2.0   1.0   \n",
              "1778  42.374758 -71.059418             2       1.0        1.0   1.0   \n",
              "\n",
              "      guests_included  availability_30  availability_60  availability_90  ...  \\\n",
              "1174                2                2                9               31  ...   \n",
              "422                 1               29               59               89  ...   \n",
              "1933                1                0                6                9  ...   \n",
              "368                 2                2                8               34  ...   \n",
              "1998                1               13               40               59  ...   \n",
              "...               ...              ...              ...              ...  ...   \n",
              "1651                1                0                0                7  ...   \n",
              "59                  1                0                0                0  ...   \n",
              "1109                1               29               59               89  ...   \n",
              "2798                1                0               13               43  ...   \n",
              "1778                1               21               36               66  ...   \n",
              "\n",
              "      property_type_Dorm  property_type_Entire Floor  \\\n",
              "1174                   0                           0   \n",
              "422                    0                           0   \n",
              "1933                   0                           0   \n",
              "368                    0                           0   \n",
              "1998                   0                           0   \n",
              "...                  ...                         ...   \n",
              "1651                   0                           0   \n",
              "59                     0                           0   \n",
              "1109                   0                           0   \n",
              "2798                   0                           0   \n",
              "1778                   0                           0   \n",
              "\n",
              "      property_type_Guesthouse  property_type_House  property_type_Loft  \\\n",
              "1174                         0                    0                   0   \n",
              "422                          0                    0                   0   \n",
              "1933                         0                    0                   0   \n",
              "368                          0                    0                   0   \n",
              "1998                         0                    0                   0   \n",
              "...                        ...                  ...                 ...   \n",
              "1651                         0                    0                   0   \n",
              "59                           0                    0                   0   \n",
              "1109                         0                    1                   0   \n",
              "2798                         0                    1                   0   \n",
              "1778                         0                    0                   0   \n",
              "\n",
              "      property_type_Other  property_type_Townhouse  property_type_Villa  \\\n",
              "1174                    0                        0                    0   \n",
              "422                     0                        0                    0   \n",
              "1933                    0                        0                    0   \n",
              "368                     0                        0                    0   \n",
              "1998                    0                        0                    0   \n",
              "...                   ...                      ...                  ...   \n",
              "1651                    0                        0                    0   \n",
              "59                      0                        0                    0   \n",
              "1109                    0                        0                    0   \n",
              "2798                    0                        0                    0   \n",
              "1778                    0                        0                    0   \n",
              "\n",
              "      is_location_exact_f  is_location_exact_t  \n",
              "1174                    0                    1  \n",
              "422                     0                    1  \n",
              "1933                    0                    1  \n",
              "368                     0                    1  \n",
              "1998                    0                    1  \n",
              "...                   ...                  ...  \n",
              "1651                    0                    1  \n",
              "59                      0                    1  \n",
              "1109                    0                    1  \n",
              "2798                    0                    1  \n",
              "1778                    0                    1  \n",
              "\n",
              "[1634 rows x 76 columns]"
            ],
            "text/html": [
              "\n",
              "  <div id=\"df-a0c6fc6b-18d5-48af-9eea-92c861dd8f6c\">\n",
              "    <div class=\"colab-df-container\">\n",
              "      <div>\n",
              "<style scoped>\n",
              "    .dataframe tbody tr th:only-of-type {\n",
              "        vertical-align: middle;\n",
              "    }\n",
              "\n",
              "    .dataframe tbody tr th {\n",
              "        vertical-align: top;\n",
              "    }\n",
              "\n",
              "    .dataframe thead th {\n",
              "        text-align: right;\n",
              "    }\n",
              "</style>\n",
              "<table border=\"1\" class=\"dataframe\">\n",
              "  <thead>\n",
              "    <tr style=\"text-align: right;\">\n",
              "      <th></th>\n",
              "      <th>latitude</th>\n",
              "      <th>longitude</th>\n",
              "      <th>accommodates</th>\n",
              "      <th>bedrooms</th>\n",
              "      <th>bathrooms</th>\n",
              "      <th>beds</th>\n",
              "      <th>guests_included</th>\n",
              "      <th>availability_30</th>\n",
              "      <th>availability_60</th>\n",
              "      <th>availability_90</th>\n",
              "      <th>...</th>\n",
              "      <th>property_type_Dorm</th>\n",
              "      <th>property_type_Entire Floor</th>\n",
              "      <th>property_type_Guesthouse</th>\n",
              "      <th>property_type_House</th>\n",
              "      <th>property_type_Loft</th>\n",
              "      <th>property_type_Other</th>\n",
              "      <th>property_type_Townhouse</th>\n",
              "      <th>property_type_Villa</th>\n",
              "      <th>is_location_exact_f</th>\n",
              "      <th>is_location_exact_t</th>\n",
              "    </tr>\n",
              "  </thead>\n",
              "  <tbody>\n",
              "    <tr>\n",
              "      <th>1174</th>\n",
              "      <td>42.346433</td>\n",
              "      <td>-71.070916</td>\n",
              "      <td>2</td>\n",
              "      <td>1.0</td>\n",
              "      <td>1.0</td>\n",
              "      <td>1.0</td>\n",
              "      <td>2</td>\n",
              "      <td>2</td>\n",
              "      <td>9</td>\n",
              "      <td>31</td>\n",
              "      <td>...</td>\n",
              "      <td>0</td>\n",
              "      <td>0</td>\n",
              "      <td>0</td>\n",
              "      <td>0</td>\n",
              "      <td>0</td>\n",
              "      <td>0</td>\n",
              "      <td>0</td>\n",
              "      <td>0</td>\n",
              "      <td>0</td>\n",
              "      <td>1</td>\n",
              "    </tr>\n",
              "    <tr>\n",
              "      <th>422</th>\n",
              "      <td>42.334678</td>\n",
              "      <td>-71.102513</td>\n",
              "      <td>4</td>\n",
              "      <td>2.0</td>\n",
              "      <td>1.0</td>\n",
              "      <td>2.0</td>\n",
              "      <td>1</td>\n",
              "      <td>29</td>\n",
              "      <td>59</td>\n",
              "      <td>89</td>\n",
              "      <td>...</td>\n",
              "      <td>0</td>\n",
              "      <td>0</td>\n",
              "      <td>0</td>\n",
              "      <td>0</td>\n",
              "      <td>0</td>\n",
              "      <td>0</td>\n",
              "      <td>0</td>\n",
              "      <td>0</td>\n",
              "      <td>0</td>\n",
              "      <td>1</td>\n",
              "    </tr>\n",
              "    <tr>\n",
              "      <th>1933</th>\n",
              "      <td>42.360520</td>\n",
              "      <td>-71.064014</td>\n",
              "      <td>3</td>\n",
              "      <td>1.0</td>\n",
              "      <td>1.0</td>\n",
              "      <td>2.0</td>\n",
              "      <td>1</td>\n",
              "      <td>0</td>\n",
              "      <td>6</td>\n",
              "      <td>9</td>\n",
              "      <td>...</td>\n",
              "      <td>0</td>\n",
              "      <td>0</td>\n",
              "      <td>0</td>\n",
              "      <td>0</td>\n",
              "      <td>0</td>\n",
              "      <td>0</td>\n",
              "      <td>0</td>\n",
              "      <td>0</td>\n",
              "      <td>0</td>\n",
              "      <td>1</td>\n",
              "    </tr>\n",
              "    <tr>\n",
              "      <th>368</th>\n",
              "      <td>42.310009</td>\n",
              "      <td>-71.101764</td>\n",
              "      <td>2</td>\n",
              "      <td>1.0</td>\n",
              "      <td>1.0</td>\n",
              "      <td>1.0</td>\n",
              "      <td>2</td>\n",
              "      <td>2</td>\n",
              "      <td>8</td>\n",
              "      <td>34</td>\n",
              "      <td>...</td>\n",
              "      <td>0</td>\n",
              "      <td>0</td>\n",
              "      <td>0</td>\n",
              "      <td>0</td>\n",
              "      <td>0</td>\n",
              "      <td>0</td>\n",
              "      <td>0</td>\n",
              "      <td>0</td>\n",
              "      <td>0</td>\n",
              "      <td>1</td>\n",
              "    </tr>\n",
              "    <tr>\n",
              "      <th>1998</th>\n",
              "      <td>42.356681</td>\n",
              "      <td>-71.071558</td>\n",
              "      <td>2</td>\n",
              "      <td>1.0</td>\n",
              "      <td>1.0</td>\n",
              "      <td>1.0</td>\n",
              "      <td>1</td>\n",
              "      <td>13</td>\n",
              "      <td>40</td>\n",
              "      <td>59</td>\n",
              "      <td>...</td>\n",
              "      <td>0</td>\n",
              "      <td>0</td>\n",
              "      <td>0</td>\n",
              "      <td>0</td>\n",
              "      <td>0</td>\n",
              "      <td>0</td>\n",
              "      <td>0</td>\n",
              "      <td>0</td>\n",
              "      <td>0</td>\n",
              "      <td>1</td>\n",
              "    </tr>\n",
              "    <tr>\n",
              "      <th>...</th>\n",
              "      <td>...</td>\n",
              "      <td>...</td>\n",
              "      <td>...</td>\n",
              "      <td>...</td>\n",
              "      <td>...</td>\n",
              "      <td>...</td>\n",
              "      <td>...</td>\n",
              "      <td>...</td>\n",
              "      <td>...</td>\n",
              "      <td>...</td>\n",
              "      <td>...</td>\n",
              "      <td>...</td>\n",
              "      <td>...</td>\n",
              "      <td>...</td>\n",
              "      <td>...</td>\n",
              "      <td>...</td>\n",
              "      <td>...</td>\n",
              "      <td>...</td>\n",
              "      <td>...</td>\n",
              "      <td>...</td>\n",
              "      <td>...</td>\n",
              "    </tr>\n",
              "    <tr>\n",
              "      <th>1651</th>\n",
              "      <td>42.367098</td>\n",
              "      <td>-71.033349</td>\n",
              "      <td>3</td>\n",
              "      <td>0.0</td>\n",
              "      <td>1.0</td>\n",
              "      <td>2.0</td>\n",
              "      <td>1</td>\n",
              "      <td>0</td>\n",
              "      <td>0</td>\n",
              "      <td>7</td>\n",
              "      <td>...</td>\n",
              "      <td>0</td>\n",
              "      <td>0</td>\n",
              "      <td>0</td>\n",
              "      <td>0</td>\n",
              "      <td>0</td>\n",
              "      <td>0</td>\n",
              "      <td>0</td>\n",
              "      <td>0</td>\n",
              "      <td>0</td>\n",
              "      <td>1</td>\n",
              "    </tr>\n",
              "    <tr>\n",
              "      <th>59</th>\n",
              "      <td>42.316912</td>\n",
              "      <td>-71.113025</td>\n",
              "      <td>2</td>\n",
              "      <td>1.0</td>\n",
              "      <td>1.0</td>\n",
              "      <td>1.0</td>\n",
              "      <td>1</td>\n",
              "      <td>0</td>\n",
              "      <td>0</td>\n",
              "      <td>0</td>\n",
              "      <td>...</td>\n",
              "      <td>0</td>\n",
              "      <td>0</td>\n",
              "      <td>0</td>\n",
              "      <td>0</td>\n",
              "      <td>0</td>\n",
              "      <td>0</td>\n",
              "      <td>0</td>\n",
              "      <td>0</td>\n",
              "      <td>0</td>\n",
              "      <td>1</td>\n",
              "    </tr>\n",
              "    <tr>\n",
              "      <th>1109</th>\n",
              "      <td>42.344032</td>\n",
              "      <td>-71.074080</td>\n",
              "      <td>4</td>\n",
              "      <td>2.0</td>\n",
              "      <td>2.5</td>\n",
              "      <td>2.0</td>\n",
              "      <td>1</td>\n",
              "      <td>29</td>\n",
              "      <td>59</td>\n",
              "      <td>89</td>\n",
              "      <td>...</td>\n",
              "      <td>0</td>\n",
              "      <td>0</td>\n",
              "      <td>0</td>\n",
              "      <td>1</td>\n",
              "      <td>0</td>\n",
              "      <td>0</td>\n",
              "      <td>0</td>\n",
              "      <td>0</td>\n",
              "      <td>0</td>\n",
              "      <td>1</td>\n",
              "    </tr>\n",
              "    <tr>\n",
              "      <th>2798</th>\n",
              "      <td>42.301693</td>\n",
              "      <td>-71.062637</td>\n",
              "      <td>4</td>\n",
              "      <td>1.0</td>\n",
              "      <td>2.0</td>\n",
              "      <td>1.0</td>\n",
              "      <td>1</td>\n",
              "      <td>0</td>\n",
              "      <td>13</td>\n",
              "      <td>43</td>\n",
              "      <td>...</td>\n",
              "      <td>0</td>\n",
              "      <td>0</td>\n",
              "      <td>0</td>\n",
              "      <td>1</td>\n",
              "      <td>0</td>\n",
              "      <td>0</td>\n",
              "      <td>0</td>\n",
              "      <td>0</td>\n",
              "      <td>0</td>\n",
              "      <td>1</td>\n",
              "    </tr>\n",
              "    <tr>\n",
              "      <th>1778</th>\n",
              "      <td>42.374758</td>\n",
              "      <td>-71.059418</td>\n",
              "      <td>2</td>\n",
              "      <td>1.0</td>\n",
              "      <td>1.0</td>\n",
              "      <td>1.0</td>\n",
              "      <td>1</td>\n",
              "      <td>21</td>\n",
              "      <td>36</td>\n",
              "      <td>66</td>\n",
              "      <td>...</td>\n",
              "      <td>0</td>\n",
              "      <td>0</td>\n",
              "      <td>0</td>\n",
              "      <td>0</td>\n",
              "      <td>0</td>\n",
              "      <td>0</td>\n",
              "      <td>0</td>\n",
              "      <td>0</td>\n",
              "      <td>0</td>\n",
              "      <td>1</td>\n",
              "    </tr>\n",
              "  </tbody>\n",
              "</table>\n",
              "<p>1634 rows × 76 columns</p>\n",
              "</div>\n",
              "      <button class=\"colab-df-convert\" onclick=\"convertToInteractive('df-a0c6fc6b-18d5-48af-9eea-92c861dd8f6c')\"\n",
              "              title=\"Convert this dataframe to an interactive table.\"\n",
              "              style=\"display:none;\">\n",
              "        \n",
              "  <svg xmlns=\"http://www.w3.org/2000/svg\" height=\"24px\"viewBox=\"0 0 24 24\"\n",
              "       width=\"24px\">\n",
              "    <path d=\"M0 0h24v24H0V0z\" fill=\"none\"/>\n",
              "    <path d=\"M18.56 5.44l.94 2.06.94-2.06 2.06-.94-2.06-.94-.94-2.06-.94 2.06-2.06.94zm-11 1L8.5 8.5l.94-2.06 2.06-.94-2.06-.94L8.5 2.5l-.94 2.06-2.06.94zm10 10l.94 2.06.94-2.06 2.06-.94-2.06-.94-.94-2.06-.94 2.06-2.06.94z\"/><path d=\"M17.41 7.96l-1.37-1.37c-.4-.4-.92-.59-1.43-.59-.52 0-1.04.2-1.43.59L10.3 9.45l-7.72 7.72c-.78.78-.78 2.05 0 2.83L4 21.41c.39.39.9.59 1.41.59.51 0 1.02-.2 1.41-.59l7.78-7.78 2.81-2.81c.8-.78.8-2.07 0-2.86zM5.41 20L4 18.59l7.72-7.72 1.47 1.35L5.41 20z\"/>\n",
              "  </svg>\n",
              "      </button>\n",
              "      \n",
              "  <style>\n",
              "    .colab-df-container {\n",
              "      display:flex;\n",
              "      flex-wrap:wrap;\n",
              "      gap: 12px;\n",
              "    }\n",
              "\n",
              "    .colab-df-convert {\n",
              "      background-color: #E8F0FE;\n",
              "      border: none;\n",
              "      border-radius: 50%;\n",
              "      cursor: pointer;\n",
              "      display: none;\n",
              "      fill: #1967D2;\n",
              "      height: 32px;\n",
              "      padding: 0 0 0 0;\n",
              "      width: 32px;\n",
              "    }\n",
              "\n",
              "    .colab-df-convert:hover {\n",
              "      background-color: #E2EBFA;\n",
              "      box-shadow: 0px 1px 2px rgba(60, 64, 67, 0.3), 0px 1px 3px 1px rgba(60, 64, 67, 0.15);\n",
              "      fill: #174EA6;\n",
              "    }\n",
              "\n",
              "    [theme=dark] .colab-df-convert {\n",
              "      background-color: #3B4455;\n",
              "      fill: #D2E3FC;\n",
              "    }\n",
              "\n",
              "    [theme=dark] .colab-df-convert:hover {\n",
              "      background-color: #434B5C;\n",
              "      box-shadow: 0px 1px 3px 1px rgba(0, 0, 0, 0.15);\n",
              "      filter: drop-shadow(0px 1px 2px rgba(0, 0, 0, 0.3));\n",
              "      fill: #FFFFFF;\n",
              "    }\n",
              "  </style>\n",
              "\n",
              "      <script>\n",
              "        const buttonEl =\n",
              "          document.querySelector('#df-a0c6fc6b-18d5-48af-9eea-92c861dd8f6c button.colab-df-convert');\n",
              "        buttonEl.style.display =\n",
              "          google.colab.kernel.accessAllowed ? 'block' : 'none';\n",
              "\n",
              "        async function convertToInteractive(key) {\n",
              "          const element = document.querySelector('#df-a0c6fc6b-18d5-48af-9eea-92c861dd8f6c');\n",
              "          const dataTable =\n",
              "            await google.colab.kernel.invokeFunction('convertToInteractive',\n",
              "                                                     [key], {});\n",
              "          if (!dataTable) return;\n",
              "\n",
              "          const docLinkHtml = 'Like what you see? Visit the ' +\n",
              "            '<a target=\"_blank\" href=https://colab.research.google.com/notebooks/data_table.ipynb>data table notebook</a>'\n",
              "            + ' to learn more about interactive tables.';\n",
              "          element.innerHTML = '';\n",
              "          dataTable['output_type'] = 'display_data';\n",
              "          await google.colab.output.renderOutput(dataTable, element);\n",
              "          const docLink = document.createElement('div');\n",
              "          docLink.innerHTML = docLinkHtml;\n",
              "          element.appendChild(docLink);\n",
              "        }\n",
              "      </script>\n",
              "    </div>\n",
              "  </div>\n",
              "  "
            ]
          },
          "metadata": {},
          "execution_count": 149
        }
      ]
    },
    {
      "cell_type": "code",
      "source": [
        "\n",
        "!pip install lightgbm \n",
        "import lightgbm as lgb\n",
        "\n",
        "\n",
        "params = {\n",
        "    'task': 'train', \n",
        "    'boosting': 'gbdt',        # parameter settings\n",
        "    'objective': 'regression',\n",
        "    'num_leaves': 31,\n",
        "    'learning_rate': 0.1,\n",
        "    'metric': {'l2','l1'},\n",
        "    'verbose': -1,\n",
        "    'max_depth' :8\n",
        "}\n",
        "\n",
        "lgb_train = lgb.Dataset(X_train, y_train)\n",
        "lgb_eval = lgb.Dataset(X_test, y_test, reference=lgb_train)\n",
        "\n",
        "model = lgb.train(params,\n",
        "                 train_set=lgb_train,\n",
        "                 valid_sets=lgb_eval,\n",
        "                 early_stopping_rounds=30)\n",
        "\n",
        "y_preds = model.predict(X_test)\n",
        "\n",
        "# accuracy check\n",
        "mse = mean_squared_error(y_test, y_preds)\n",
        "rmse = mse**(0.5)\n",
        "print(r2_score(y_test, y_preds))\n",
        "print(mean_squared_error(y_test, y_preds))\n",
        "print(mean_absolute_error(y_test, y_preds))"
      ],
      "metadata": {
        "colab": {
          "base_uri": "https://localhost:8080/"
        },
        "id": "h4U82FcfoS53",
        "outputId": "2ba34d12-7221-4c54-883a-c0a43efcf097"
      },
      "execution_count": 150,
      "outputs": [
        {
          "output_type": "stream",
          "name": "stdout",
          "text": [
            "Looking in indexes: https://pypi.org/simple, https://us-python.pkg.dev/colab-wheels/public/simple/\n",
            "Requirement already satisfied: lightgbm in /usr/local/lib/python3.8/dist-packages (2.2.3)\n",
            "Requirement already satisfied: scikit-learn in /usr/local/lib/python3.8/dist-packages (from lightgbm) (1.0.2)\n",
            "Requirement already satisfied: numpy in /usr/local/lib/python3.8/dist-packages (from lightgbm) (1.21.6)\n",
            "Requirement already satisfied: scipy in /usr/local/lib/python3.8/dist-packages (from lightgbm) (1.7.3)\n",
            "Requirement already satisfied: joblib>=0.11 in /usr/local/lib/python3.8/dist-packages (from scikit-learn->lightgbm) (1.2.0)\n",
            "Requirement already satisfied: threadpoolctl>=2.0.0 in /usr/local/lib/python3.8/dist-packages (from scikit-learn->lightgbm) (3.1.0)\n",
            "[1]\tvalid_0's l1: 81.3346\tvalid_0's l2: 13359.8\n",
            "Training until validation scores don't improve for 30 rounds.\n",
            "[2]\tvalid_0's l1: 76.3976\tvalid_0's l2: 12026.4\n",
            "[3]\tvalid_0's l1: 72.1046\tvalid_0's l2: 10940\n",
            "[4]\tvalid_0's l1: 68.4273\tvalid_0's l2: 10069.2\n",
            "[5]\tvalid_0's l1: 65.0509\tvalid_0's l2: 9296.12\n",
            "[6]\tvalid_0's l1: 61.8165\tvalid_0's l2: 8514.7\n",
            "[7]\tvalid_0's l1: 59.3336\tvalid_0's l2: 8009\n",
            "[8]\tvalid_0's l1: 56.9961\tvalid_0's l2: 7544.07\n",
            "[9]\tvalid_0's l1: 55.0131\tvalid_0's l2: 7180.37\n",
            "[10]\tvalid_0's l1: 53.2889\tvalid_0's l2: 6860.98\n",
            "[11]\tvalid_0's l1: 51.6393\tvalid_0's l2: 6526.39\n",
            "[12]\tvalid_0's l1: 50.422\tvalid_0's l2: 6309.45\n",
            "[13]\tvalid_0's l1: 49.1714\tvalid_0's l2: 6115.18\n",
            "[14]\tvalid_0's l1: 48.2393\tvalid_0's l2: 5954.76\n",
            "[15]\tvalid_0's l1: 47.2453\tvalid_0's l2: 5772.28\n",
            "[16]\tvalid_0's l1: 46.4953\tvalid_0's l2: 5661.3\n",
            "[17]\tvalid_0's l1: 45.6526\tvalid_0's l2: 5526.06\n",
            "[18]\tvalid_0's l1: 45.0814\tvalid_0's l2: 5435.5\n",
            "[19]\tvalid_0's l1: 44.5845\tvalid_0's l2: 5365.59\n",
            "[20]\tvalid_0's l1: 44.2417\tvalid_0's l2: 5282.15\n",
            "[21]\tvalid_0's l1: 43.8334\tvalid_0's l2: 5148.97\n",
            "[22]\tvalid_0's l1: 43.627\tvalid_0's l2: 5115.5\n",
            "[23]\tvalid_0's l1: 43.2509\tvalid_0's l2: 5031.9\n",
            "[24]\tvalid_0's l1: 43.0772\tvalid_0's l2: 5002.39\n",
            "[25]\tvalid_0's l1: 42.79\tvalid_0's l2: 4964.16\n",
            "[26]\tvalid_0's l1: 42.7542\tvalid_0's l2: 4949.56\n",
            "[27]\tvalid_0's l1: 42.5569\tvalid_0's l2: 4909.76\n",
            "[28]\tvalid_0's l1: 42.5013\tvalid_0's l2: 4883.42\n",
            "[29]\tvalid_0's l1: 42.4177\tvalid_0's l2: 4854.02\n",
            "[30]\tvalid_0's l1: 42.4633\tvalid_0's l2: 4864.35\n",
            "[31]\tvalid_0's l1: 42.4343\tvalid_0's l2: 4848.52\n",
            "[32]\tvalid_0's l1: 42.371\tvalid_0's l2: 4826.53\n",
            "[33]\tvalid_0's l1: 42.2163\tvalid_0's l2: 4804.85\n",
            "[34]\tvalid_0's l1: 42.1597\tvalid_0's l2: 4799.28\n",
            "[35]\tvalid_0's l1: 42.0241\tvalid_0's l2: 4766.4\n",
            "[36]\tvalid_0's l1: 42.0712\tvalid_0's l2: 4780.89\n",
            "[37]\tvalid_0's l1: 42.0567\tvalid_0's l2: 4781.24\n",
            "[38]\tvalid_0's l1: 42.011\tvalid_0's l2: 4783.36\n",
            "[39]\tvalid_0's l1: 41.9522\tvalid_0's l2: 4753.62\n",
            "[40]\tvalid_0's l1: 41.9906\tvalid_0's l2: 4765.42\n",
            "[41]\tvalid_0's l1: 41.9249\tvalid_0's l2: 4747.7\n",
            "[42]\tvalid_0's l1: 41.9029\tvalid_0's l2: 4747.26\n",
            "[43]\tvalid_0's l1: 41.8418\tvalid_0's l2: 4743.77\n",
            "[44]\tvalid_0's l1: 41.8074\tvalid_0's l2: 4738.52\n",
            "[45]\tvalid_0's l1: 41.7084\tvalid_0's l2: 4723.98\n",
            "[46]\tvalid_0's l1: 41.6489\tvalid_0's l2: 4728.1\n",
            "[47]\tvalid_0's l1: 41.5968\tvalid_0's l2: 4724.18\n",
            "[48]\tvalid_0's l1: 41.6189\tvalid_0's l2: 4730.96\n",
            "[49]\tvalid_0's l1: 41.6267\tvalid_0's l2: 4739.54\n",
            "[50]\tvalid_0's l1: 41.6483\tvalid_0's l2: 4743.99\n",
            "[51]\tvalid_0's l1: 41.6744\tvalid_0's l2: 4735.9\n",
            "[52]\tvalid_0's l1: 41.6527\tvalid_0's l2: 4737.69\n",
            "[53]\tvalid_0's l1: 41.6664\tvalid_0's l2: 4732.17\n",
            "[54]\tvalid_0's l1: 41.643\tvalid_0's l2: 4728.67\n",
            "[55]\tvalid_0's l1: 41.7465\tvalid_0's l2: 4749.87\n",
            "[56]\tvalid_0's l1: 41.7922\tvalid_0's l2: 4750.7\n",
            "[57]\tvalid_0's l1: 41.7787\tvalid_0's l2: 4744.51\n",
            "[58]\tvalid_0's l1: 41.6954\tvalid_0's l2: 4713.17\n",
            "[59]\tvalid_0's l1: 41.6392\tvalid_0's l2: 4704.8\n",
            "[60]\tvalid_0's l1: 41.6106\tvalid_0's l2: 4702.16\n",
            "[61]\tvalid_0's l1: 41.5851\tvalid_0's l2: 4694.45\n",
            "[62]\tvalid_0's l1: 41.6121\tvalid_0's l2: 4699.51\n",
            "[63]\tvalid_0's l1: 41.5343\tvalid_0's l2: 4692.47\n",
            "[64]\tvalid_0's l1: 41.4672\tvalid_0's l2: 4673.02\n",
            "[65]\tvalid_0's l1: 41.4103\tvalid_0's l2: 4662.44\n",
            "[66]\tvalid_0's l1: 41.3931\tvalid_0's l2: 4650.03\n",
            "[67]\tvalid_0's l1: 41.3979\tvalid_0's l2: 4657.72\n",
            "[68]\tvalid_0's l1: 41.3656\tvalid_0's l2: 4653.87\n",
            "[69]\tvalid_0's l1: 41.3826\tvalid_0's l2: 4662.22\n",
            "[70]\tvalid_0's l1: 41.3224\tvalid_0's l2: 4645.9\n",
            "[71]\tvalid_0's l1: 41.3174\tvalid_0's l2: 4644.87\n",
            "[72]\tvalid_0's l1: 41.3331\tvalid_0's l2: 4649.86\n",
            "[73]\tvalid_0's l1: 41.4346\tvalid_0's l2: 4681.57\n",
            "[74]\tvalid_0's l1: 41.3684\tvalid_0's l2: 4670.55\n",
            "[75]\tvalid_0's l1: 41.3178\tvalid_0's l2: 4662.84\n",
            "[76]\tvalid_0's l1: 41.3064\tvalid_0's l2: 4664.67\n",
            "[77]\tvalid_0's l1: 41.3376\tvalid_0's l2: 4673.3\n",
            "[78]\tvalid_0's l1: 41.3333\tvalid_0's l2: 4679.6\n",
            "[79]\tvalid_0's l1: 41.2839\tvalid_0's l2: 4671.01\n",
            "[80]\tvalid_0's l1: 41.3132\tvalid_0's l2: 4680.87\n",
            "[81]\tvalid_0's l1: 41.3153\tvalid_0's l2: 4690.93\n",
            "[82]\tvalid_0's l1: 41.2818\tvalid_0's l2: 4688.3\n",
            "[83]\tvalid_0's l1: 41.2651\tvalid_0's l2: 4681.39\n",
            "[84]\tvalid_0's l1: 41.2714\tvalid_0's l2: 4680.9\n",
            "[85]\tvalid_0's l1: 41.2871\tvalid_0's l2: 4684.73\n",
            "[86]\tvalid_0's l1: 41.2778\tvalid_0's l2: 4683.25\n",
            "[87]\tvalid_0's l1: 41.3436\tvalid_0's l2: 4690.02\n",
            "[88]\tvalid_0's l1: 41.3182\tvalid_0's l2: 4686.63\n",
            "[89]\tvalid_0's l1: 41.2562\tvalid_0's l2: 4674.5\n",
            "[90]\tvalid_0's l1: 41.2788\tvalid_0's l2: 4680.39\n",
            "[91]\tvalid_0's l1: 41.2662\tvalid_0's l2: 4674.45\n",
            "[92]\tvalid_0's l1: 41.298\tvalid_0's l2: 4684.22\n",
            "[93]\tvalid_0's l1: 41.3358\tvalid_0's l2: 4692.87\n",
            "[94]\tvalid_0's l1: 41.344\tvalid_0's l2: 4693.27\n",
            "[95]\tvalid_0's l1: 41.3264\tvalid_0's l2: 4688.42\n",
            "[96]\tvalid_0's l1: 41.3408\tvalid_0's l2: 4695.69\n",
            "[97]\tvalid_0's l1: 41.3273\tvalid_0's l2: 4689.64\n",
            "[98]\tvalid_0's l1: 41.2887\tvalid_0's l2: 4682.89\n",
            "[99]\tvalid_0's l1: 41.2995\tvalid_0's l2: 4687.26\n",
            "[100]\tvalid_0's l1: 41.3559\tvalid_0's l2: 4696.96\n",
            "Did not meet early stopping. Best iteration is:\n",
            "[89]\tvalid_0's l1: 41.2562\tvalid_0's l2: 4674.5\n",
            "0.6863002065048688\n",
            "4674.4973804578085\n",
            "41.25616857149495\n"
          ]
        }
      ]
    },
    {
      "cell_type": "code",
      "source": [
        "print(r2_score(y_test, y_preds))\n",
        "print(mean_squared_error(y_test, y_preds))\n",
        "print(mean_absolute_error(y_test, y_preds))"
      ],
      "metadata": {
        "colab": {
          "base_uri": "https://localhost:8080/"
        },
        "id": "gj0cdEg8TpV_",
        "outputId": "4d5fdea6-cca9-461c-da69-8efcab02a62b"
      },
      "execution_count": 151,
      "outputs": [
        {
          "output_type": "stream",
          "name": "stdout",
          "text": [
            "0.6863002065048688\n",
            "4674.4973804578085\n",
            "41.25616857149495\n"
          ]
        }
      ]
    },
    {
      "cell_type": "code",
      "source": [
        "# Plot predicted and original values:\n",
        "plt.figure(figsize=[20,5])\n",
        "plt.subplot(1,2,1)\n",
        "ax1 = sns.kdeplot(data=y_test, color=\"g\", label='Actual values')\n",
        "ax2 = sns.kdeplot(data=y_preds, color=\"b\", label='Predicted values')\n",
        "plt.legend();\n",
        "\n",
        "plt.subplot(1,2,2)\n",
        "sns.regplot(x=y_test, y=y_preds)\n",
        "plt.title('Distribution of predicted vs actual values')\n",
        "plt.xlabel('Price');"
      ],
      "metadata": {
        "colab": {
          "base_uri": "https://localhost:8080/",
          "height": 292
        },
        "id": "9n9DkOC2lVyG",
        "outputId": "3254edc3-9712-42b4-e32c-eabbf00b6389"
      },
      "execution_count": 152,
      "outputs": [
        {
          "output_type": "display_data",
          "data": {
            "text/plain": [
              "<Figure size 1440x360 with 2 Axes>"
            ],
            "image/png": "[encoded data removed]"
          },
          "metadata": {
            "needs_background": "light"
          }
        }
      ]
    },
    {
      "cell_type": "code",
      "source": [
        "def ploting_top_feature(k):\n",
        "  '''\n",
        "  return top K important feature\n",
        "  input: \n",
        "          k: int - k most importance feature\n",
        "  '''\n",
        "  df_feature_importance = (\n",
        "      pd.DataFrame({\n",
        "          'feature': model.feature_name(),\n",
        "          'importance': model.feature_importance(),\n",
        "      })\n",
        "      .sort_values('importance', ascending=False)\n",
        "  )\n",
        "  top_feature=df_feature_importance.iloc[:k,:]\n",
        "  return sns.barplot( x=top_feature['importance'],y=top_feature['feature'])\\\n"
      ],
      "metadata": {
        "colab": {
          "base_uri": "https://localhost:8080/",
          "height": 296
        },
        "id": "KKZ8hQZVceoE",
        "outputId": "9dd00f3d-d92d-4bc9-ccd5-4f1734bc9e1d"
      },
      "execution_count": 153,
      "outputs": [
        {
          "output_type": "execute_result",
          "data": {
            "text/plain": [
              "<matplotlib.axes._subplots.AxesSubplot at 0x7f40c8a99670>"
            ]
          },
          "metadata": {},
          "execution_count": 153
        },
        {
          "output_type": "display_data",
          "data": {
            "text/plain": [
              "<Figure size 432x288 with 1 Axes>"
            ],
            "image/png": "[encoded data removed]"
          },
          "metadata": {
            "needs_background": "light"
          }
        }
      ]
    },
    {
      "cell_type": "markdown",
      "source": [
        "#Section 5: Answering question and conclusion"
      ],
      "metadata": {
        "id": "RM0StOYQMLB6"
      }
    },
    {
      "cell_type": "markdown",
      "source": [
        "##a) What is the most common neighbor in the Boston"
      ],
      "metadata": {
        "id": "AeQEgGQjOBX-"
      }
    },
    {
      "cell_type": "code",
      "source": [
        "figure(figsize=(8, 6), dpi=80)\n",
        "plot_bar('neighbourhood', \"neighborhood count\")"
      ],
      "metadata": {
        "colab": {
          "base_uri": "https://localhost:8080/",
          "height": 461
        },
        "id": "Ed4YThIiPU7u",
        "outputId": "8d799d90-60fe-4d0a-8894-ae20fc7a29bc"
      },
      "execution_count": 159,
      "outputs": [
        {
          "output_type": "execute_result",
          "data": {
            "text/plain": [
              "<matplotlib.axes._subplots.AxesSubplot at 0x7f40cc871e20>"
            ]
          },
          "metadata": {},
          "execution_count": 159
        },
        {
          "output_type": "display_data",
          "data": {
            "text/plain": [
              "<Figure size 640x480 with 1 Axes>"
            ],
            "image/png": "[encoded data removed]"
          },
          "metadata": {
            "needs_background": "light"
          }
        }
      ]
    },
    {
      "cell_type": "markdown",
      "source": [
        "As we can see, Most of our homestay located in Allston - Brighton neighbor, and somewhat in near Jamaica Plain, South End and Back Bay"
      ],
      "metadata": {
        "id": "46wJ7dW5SKtk"
      }
    },
    {
      "cell_type": "markdown",
      "source": [
        "## b) In which month, do people usually spend on vacation?"
      ],
      "metadata": {
        "id": "eO7kNs8ZSnox"
      }
    },
    {
      "cell_type": "code",
      "source": [
        "figure(figsize=(8, 6), dpi=80)\n",
        "plot_freq()"
      ],
      "metadata": {
        "colab": {
          "base_uri": "https://localhost:8080/",
          "height": 444
        },
        "id": "nhsN-yZEPhyh",
        "outputId": "7351268a-9588-4a33-8cfe-bbdcba5929f0"
      },
      "execution_count": 156,
      "outputs": [
        {
          "output_type": "execute_result",
          "data": {
            "text/plain": [
              "<matplotlib.axes._subplots.AxesSubplot at 0x7f40ca82aa00>"
            ]
          },
          "metadata": {},
          "execution_count": 156
        },
        {
          "output_type": "display_data",
          "data": {
            "text/plain": [
              "<Figure size 640x480 with 1 Axes>"
            ],
            "image/png": "[encoded data removed]"
          },
          "metadata": {
            "needs_background": "light"
          }
        }
      ]
    },
    {
      "cell_type": "markdown",
      "source": [
        "It is a common thing that people usually spend their vacation in summer, usually from May to August. By this information, Homestay can plan ahead their schedule for better service for their customer."
      ],
      "metadata": {
        "id": "CYawo8OPSjbx"
      }
    },
    {
      "cell_type": "markdown",
      "source": [
        "##c) What is the distribution of homestay prices in Boston?"
      ],
      "metadata": {
        "id": "pz5aHvdbS1vx"
      }
    },
    {
      "cell_type": "code",
      "source": [
        "title = 'Distribution of price'\n",
        "xtitle='Price'\n",
        "figure(figsize=(8, 6), dpi=80)\n",
        "hist_plot('price',title, xtitle)"
      ],
      "metadata": {
        "colab": {
          "base_uri": "https://localhost:8080/",
          "height": 444
        },
        "id": "wrWXJYL1OK21",
        "outputId": "eb32d2f3-1493-47cb-9235-7436783c7a95"
      },
      "execution_count": 154,
      "outputs": [
        {
          "output_type": "display_data",
          "data": {
            "text/plain": [
              "<Figure size 640x480 with 1 Axes>"
            ],
            "image/png": "[encoded data removed]"
          },
          "metadata": {
            "needs_background": "light"
          }
        }
      ]
    },
    {
      "cell_type": "markdown",
      "source": [
        "Most of our price concentrated at around 0–500, few place rise over 1000 -1500. Noticeably, there is a place with the price 4000. From a data scientist perspective. It is clearly that our data has an outlier however, I'm not a house expert so I will not delete that to make our data unbiased, who know maybe there is a luxury 6 stars hotel with 4000 per room actually existed"
      ],
      "metadata": {
        "id": "R8PlNKt8PhgO"
      }
    },
    {
      "cell_type": "markdown",
      "source": [
        "##d) Which factor will affect the price most?"
      ],
      "metadata": {
        "id": "QEIxYeeBTbu8"
      }
    },
    {
      "cell_type": "code",
      "source": [
        "figure(figsize=(8, 6), dpi=80)\n",
        "ploting_top_feature(10)"
      ],
      "metadata": {
        "colab": {
          "base_uri": "https://localhost:8080/",
          "height": 444
        },
        "id": "TkLc31p7PlRg",
        "outputId": "628734f4-2475-479f-df95-5bd54805ef46"
      },
      "execution_count": 157,
      "outputs": [
        {
          "output_type": "execute_result",
          "data": {
            "text/plain": [
              "<matplotlib.axes._subplots.AxesSubplot at 0x7f40ca5d9a60>"
            ]
          },
          "metadata": {},
          "execution_count": 157
        },
        {
          "output_type": "display_data",
          "data": {
            "text/plain": [
              "<Figure size 640x480 with 1 Axes>"
            ],
            "image/png": "[encoded data removed]"
          },
          "metadata": {
            "needs_background": "light"
          }
        }
      ]
    },
    {
      "cell_type": "markdown",
      "source": [
        "Interestingly, Latitude and Longitude has the place in rank 1 and 2, which mean the price clearly affected by the location of homestay, the third is the availability and the fourth is bathrooms."
      ],
      "metadata": {
        "id": "G_j50VaSTgvp"
      }
    },
    {
      "cell_type": "markdown",
      "source": [
        "detailed about conclusion and analysed will be included in my blog [here](https://medium.com/@vuminhduc1809/airbnb-house-price-prediction-bcd3db4f72a)"
      ],
      "metadata": {
        "id": "6ZEJgwiy6Ci-"
      }
    }
  ]
}